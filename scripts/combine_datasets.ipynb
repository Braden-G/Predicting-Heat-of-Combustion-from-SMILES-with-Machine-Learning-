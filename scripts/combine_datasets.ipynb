{
 "cells": [
  {
   "cell_type": "code",
   "execution_count": null,
   "metadata": {},
   "outputs": [],
   "source": [
    "pubchemdata = 'data/cidWithSmilesHeat.csv'\n",
    "nist_data = 'data/combustion_with_smile.csv'\n",
    "output = 'data/full_combustion_with_smile.csv'\n",
    "\n",
    "import pandas as pd\n",
    "\n",
    "pubchem = pd.read_csv(pubchemdata)\n",
    "nist = pd.read_csv(nist_data)\n",
    "\n",
    "# Filter pubchem to get rows where Smile is not in nist\n",
    "new_rows = pubchem[~pubchem['Smile'].isin(nist['Smile'])]\n",
    "\n",
    "# Create a DataFrame with the same columns as nist and fill with NaN\n",
    "new_rows_nist_format = pd.DataFrame(columns=nist.columns)\n",
    "\n",
    "# Fill the Smile and Heat of Combustion columns with the corresponding values from pubchem\n",
    "new_rows_nist_format['Smile'] = new_rows['Smile']\n",
    "new_rows_nist_format['Heat of Combustion'] = new_rows['Heat of Combustion']\n",
    "\n",
    "# Append the new rows to nist\n",
    "nist = pd.concat([nist, new_rows_nist_format], ignore_index=True)\n",
    "\n",
    "nist.to_csv(output, index=False)"
   ]
  },
  {
   "cell_type": "markdown",
   "metadata": {},
   "source": [
    "Clean/Simplify data"
   ]
  },
  {
   "cell_type": "code",
   "execution_count": null,
   "metadata": {},
   "outputs": [
    {
     "name": "stdout",
     "output_type": "stream",
     "text": [
      "  Molecule Formula      Compound Name State of Matter  Heat of Combustion  \\\n",
      "0               H2           hydrogen               g            -285.826   \n",
      "1               O2             oxygen               g               0.000   \n",
      "2             H2O2  hydrogen peroxide               l             -98.480   \n",
      "3              H2O              water               l               0.000   \n",
      "4              H3N            ammonia               g            -383.181   \n",
      "5             H4N2          hydrazine               l            -622.340   \n",
      "6              H2S   hydrogen sulfide               g            -867.210   \n",
      "7                C            diamond               s            -395.347   \n",
      "8              CH4            methane               g            -890.602   \n",
      "9             C2H6             ethane               g           -1560.390   \n",
      "\n",
      "    Smile  \n",
      "0  [H][H]  \n",
      "1  [O][O]  \n",
      "2      OO  \n",
      "3       O  \n",
      "4       N  \n",
      "5      NN  \n",
      "6       S  \n",
      "7     [C]  \n",
      "8       C  \n",
      "9      CC  \n"
     ]
    }
   ],
   "source": [
    "output = 'data/clean_full_combustion_with_smile.csv'\n",
    "input = 'data/full_combustion_with_smile.csv'\n",
    "\n",
    "nist = pd.read_csv(input)\n",
    "\n",
    "print(nist.head(10))\n",
    "\n",
    "# Drop columns that are not needed\n",
    "columns_to_drop = ['Molecule Formula', 'Compound Name', 'State of Matter']\n",
    "nist.drop(columns=columns_to_drop, inplace=True)\n",
    "\n",
    "# Reverse the column order\n",
    "nist = nist[nist.columns[::-1]]\n",
    "\n",
    "nist.to_csv(output, index=False)"
   ]
  }
 ],
 "metadata": {
  "kernelspec": {
   "display_name": "base",
   "language": "python",
   "name": "python3"
  },
  "language_info": {
   "codemirror_mode": {
    "name": "ipython",
    "version": 3
   },
   "file_extension": ".py",
   "mimetype": "text/x-python",
   "name": "python",
   "nbconvert_exporter": "python",
   "pygments_lexer": "ipython3",
   "version": "3.11.5"
  }
 },
 "nbformat": 4,
 "nbformat_minor": 2
}
