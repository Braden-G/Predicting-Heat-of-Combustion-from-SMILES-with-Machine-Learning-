{
 "cells": [
  {
   "cell_type": "markdown",
   "metadata": {},
   "source": [
    "# Heat of combustion\n",
    "Script to get the heat of combustion using the information in the kaggle dataset. Outputs a file to use later in the project   "
   ]
  },
  {
   "cell_type": "code",
   "execution_count": null,
   "metadata": {},
   "outputs": [
    {
     "name": "stdout",
     "output_type": "stream",
     "text": [
      "Filtered data has been saved to filtered_combustion_data.csv\n"
     ]
    }
   ],
   "source": [
    "import pandas as pd\n",
    "\n",
    "# Load the Excel file\n",
    "file_path = \"NIST.TN.2126.xls\"  # Replace with your file path\n",
    "data = pd.read_excel(file_path)\n",
    "\n",
    "# Initialize storage for filtered data\n",
    "filtered_data = []\n",
    "\n",
    "# Iterate over rows in the dataset\n",
    "for _, row in data.iterrows():\n",
    "    # Extract relevant columns\n",
    "    formula = str(row.iloc[0]).strip() if pd.notna(row.iloc[0]) else None\n",
    "    compound_name = str(row.iloc[1]).strip()\n",
    "    state_of_matter = str(row.iloc[3]).strip()\n",
    "    heat_of_combustion = str(row.iloc[5]).strip() if pd.notna(row.iloc[5]) else None\n",
    "\n",
    "    # Apply filtering conditions\n",
    "    if formula and formula.isupper() and heat_of_combustion:\n",
    "        filtered_data.append([formula, compound_name, state_of_matter, heat_of_combustion])\n",
    "\n",
    "# Convert to DataFrame and save to CSV\n",
    "output_csv_path = \"filtered_combustion_data.csv\" \n",
    "columns = [\"Molecule Formula\", \"Compound Name\", \"State of Matter\", \"Heat of Combustion\"]\n",
    "filtered_df = pd.DataFrame(filtered_data, columns=columns)\n",
    "filtered_df.to_csv(output_csv_path, index=False)\n",
    "\n",
    "# print(f\"Filtered data has been saved to {output_csv_path}\")\n"
   ]
  },
  {
   "cell_type": "code",
   "execution_count": 33,
   "metadata": {},
   "outputs": [
    {
     "name": "stdout",
     "output_type": "stream",
     "text": [
      "    Molecule Formula       Compound Name State of Matter Heat of Combustion  \\\n",
      "0                 H2            hydrogen               g           -285.826   \n",
      "1                 O2              oxygen               g                  0   \n",
      "2               H2O2   hydrogen peroxide               l             -98.48   \n",
      "3                H2O               water               l                  0   \n",
      "5                H3N             ammonia               g           -383.181   \n",
      "..               ...                 ...             ...                ...   \n",
      "144             C2F6    hexafluoroethane               g            -513.33   \n",
      "145           C2H3F3        fluoroethene               g           -1251.41   \n",
      "146           C2H3F3                 NaN               l            -1244.0   \n",
      "147           C2H2F2  1,1-difluoroethene               g           -1078.41   \n",
      "149             C2F4   tetrafluoroethene               g            -825.10   \n",
      "\n",
      "                Smile  \n",
      "0              [H][H]  \n",
      "1              [O][O]  \n",
      "2                  OO  \n",
      "3                   O  \n",
      "5                   N  \n",
      "..                ...  \n",
      "144  FC(F)(F)C(F)(F)F  \n",
      "145         FC(F)(F)C  \n",
      "146         FC(F)(F)C  \n",
      "147           FC(F)=C  \n",
      "149       FC(F)=C(F)F  \n",
      "\n",
      "[142 rows x 5 columns]\n"
     ]
    }
   ],
   "source": [
    "# Load the CSV file into a DataFrame\n",
    "wikipedia_molecules_df = pd.read_csv(\"Molecules.csv\")\n",
    "filtered_combustion_data = pd.read_csv(\"filtered_combustion_data.csv\")\n",
    "output_csv_path = \"combustion_with_smile.csv\"\n",
    "\n",
    "# Display the DataFrame\n",
    "molecule_dict = dict(zip(wikipedia_molecules_df['Molecule name'], wikipedia_molecules_df['Molecule']))\n",
    "\n",
    "# Check if 'Smile' column exists, if not, create it\n",
    "if 'Smile' not in filtered_combustion_data.columns:\n",
    "    filtered_combustion_data['Smile'] = None\n",
    "    \n",
    "# Iterate through the filtered_combustion_data DataFrame\n",
    "for index, row in filtered_combustion_data.iterrows():\n",
    "    molecular_formula = row['Molecule Formula']\n",
    "    if molecular_formula in molecule_dict.keys():\n",
    "        # Find the corresponding key in the dictionary\n",
    "        Smile = molecule_dict.get(molecular_formula)\n",
    "        # Add the Smile to the DataFrame\n",
    "        filtered_combustion_data.at[index, 'Smile'] = Smile\n",
    "        \n",
    "# Remove rows where 'Smile' is NaN\n",
    "filtered_combustion_data.dropna(subset=['Smile'], inplace=True)\n",
    "\n",
    "# Save the updated DataFrame to CSV\n",
    "filtered_df.to_csv(output_csv_path, index=False)\n",
    "# print(filtered_combustion_data)"
   ]
  },
  {
   "cell_type": "code",
   "execution_count": null,
   "metadata": {},
   "outputs": [],
   "source": []
  }
 ],
 "metadata": {
  "kernelspec": {
   "display_name": "final_project",
   "language": "python",
   "name": "python3"
  },
  "language_info": {
   "codemirror_mode": {
    "name": "ipython",
    "version": 3
   },
   "file_extension": ".py",
   "mimetype": "text/x-python",
   "name": "python",
   "nbconvert_exporter": "python",
   "pygments_lexer": "ipython3",
   "version": "3.12.0"
  }
 },
 "nbformat": 4,
 "nbformat_minor": 2
}
